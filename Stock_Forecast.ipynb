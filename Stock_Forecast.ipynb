{
 "cells": [
  {
   "cell_type": "code",
   "execution_count": null,
   "id": "ab6bb36f-bb86-4240-9fb3-75839bb10fad",
   "metadata": {
    "tags": []
   },
   "outputs": [],
   "source": [
    " pip install torch==1.12.1+cu113 torchvision==0.13.1+cu113 torchaudio==0.12.1 --extra-index-url https://download.pytorch.org/whl/cu113 pandas numpy matplotlib"
   ]
  },
  {
   "cell_type": "code",
   "execution_count": 1,
   "id": "9e0088bd-9d57-401e-b477-e9fa23633901",
   "metadata": {},
   "outputs": [
    {
     "data": {
      "text/html": [
       "<div>\n",
       "<style scoped>\n",
       "    .dataframe tbody tr th:only-of-type {\n",
       "        vertical-align: middle;\n",
       "    }\n",
       "\n",
       "    .dataframe tbody tr th {\n",
       "        vertical-align: top;\n",
       "    }\n",
       "\n",
       "    .dataframe thead th {\n",
       "        text-align: right;\n",
       "    }\n",
       "</style>\n",
       "<table border=\"1\" class=\"dataframe\">\n",
       "  <thead>\n",
       "    <tr style=\"text-align: right;\">\n",
       "      <th></th>\n",
       "      <th>Date</th>\n",
       "      <th>Open</th>\n",
       "      <th>High</th>\n",
       "      <th>Low</th>\n",
       "      <th>Close</th>\n",
       "      <th>Adj Close</th>\n",
       "      <th>Volume</th>\n",
       "    </tr>\n",
       "  </thead>\n",
       "  <tbody>\n",
       "    <tr>\n",
       "      <th>0</th>\n",
       "      <td>1997-05-15</td>\n",
       "      <td>0.121875</td>\n",
       "      <td>0.125000</td>\n",
       "      <td>0.096354</td>\n",
       "      <td>0.097917</td>\n",
       "      <td>0.097917</td>\n",
       "      <td>1443120000</td>\n",
       "    </tr>\n",
       "    <tr>\n",
       "      <th>1</th>\n",
       "      <td>1997-05-16</td>\n",
       "      <td>0.098438</td>\n",
       "      <td>0.098958</td>\n",
       "      <td>0.085417</td>\n",
       "      <td>0.086458</td>\n",
       "      <td>0.086458</td>\n",
       "      <td>294000000</td>\n",
       "    </tr>\n",
       "    <tr>\n",
       "      <th>2</th>\n",
       "      <td>1997-05-19</td>\n",
       "      <td>0.088021</td>\n",
       "      <td>0.088542</td>\n",
       "      <td>0.081250</td>\n",
       "      <td>0.085417</td>\n",
       "      <td>0.085417</td>\n",
       "      <td>122136000</td>\n",
       "    </tr>\n",
       "    <tr>\n",
       "      <th>3</th>\n",
       "      <td>1997-05-20</td>\n",
       "      <td>0.086458</td>\n",
       "      <td>0.087500</td>\n",
       "      <td>0.081771</td>\n",
       "      <td>0.081771</td>\n",
       "      <td>0.081771</td>\n",
       "      <td>109344000</td>\n",
       "    </tr>\n",
       "    <tr>\n",
       "      <th>4</th>\n",
       "      <td>1997-05-21</td>\n",
       "      <td>0.081771</td>\n",
       "      <td>0.082292</td>\n",
       "      <td>0.068750</td>\n",
       "      <td>0.071354</td>\n",
       "      <td>0.071354</td>\n",
       "      <td>377064000</td>\n",
       "    </tr>\n",
       "    <tr>\n",
       "      <th>...</th>\n",
       "      <td>...</td>\n",
       "      <td>...</td>\n",
       "      <td>...</td>\n",
       "      <td>...</td>\n",
       "      <td>...</td>\n",
       "      <td>...</td>\n",
       "      <td>...</td>\n",
       "    </tr>\n",
       "    <tr>\n",
       "      <th>6511</th>\n",
       "      <td>2023-03-30</td>\n",
       "      <td>101.550003</td>\n",
       "      <td>103.040001</td>\n",
       "      <td>101.010002</td>\n",
       "      <td>102.000000</td>\n",
       "      <td>102.000000</td>\n",
       "      <td>53633400</td>\n",
       "    </tr>\n",
       "    <tr>\n",
       "      <th>6512</th>\n",
       "      <td>2023-03-31</td>\n",
       "      <td>102.160004</td>\n",
       "      <td>103.489998</td>\n",
       "      <td>101.949997</td>\n",
       "      <td>103.290001</td>\n",
       "      <td>103.290001</td>\n",
       "      <td>56704300</td>\n",
       "    </tr>\n",
       "    <tr>\n",
       "      <th>6513</th>\n",
       "      <td>2023-04-03</td>\n",
       "      <td>102.300003</td>\n",
       "      <td>103.290001</td>\n",
       "      <td>101.430000</td>\n",
       "      <td>102.410004</td>\n",
       "      <td>102.410004</td>\n",
       "      <td>41135700</td>\n",
       "    </tr>\n",
       "    <tr>\n",
       "      <th>6514</th>\n",
       "      <td>2023-04-04</td>\n",
       "      <td>102.750000</td>\n",
       "      <td>104.199997</td>\n",
       "      <td>102.110001</td>\n",
       "      <td>103.949997</td>\n",
       "      <td>103.949997</td>\n",
       "      <td>48662500</td>\n",
       "    </tr>\n",
       "    <tr>\n",
       "      <th>6515</th>\n",
       "      <td>2023-04-05</td>\n",
       "      <td>103.910004</td>\n",
       "      <td>103.910004</td>\n",
       "      <td>100.750000</td>\n",
       "      <td>101.099998</td>\n",
       "      <td>101.099998</td>\n",
       "      <td>45103000</td>\n",
       "    </tr>\n",
       "  </tbody>\n",
       "</table>\n",
       "<p>6516 rows × 7 columns</p>\n",
       "</div>"
      ],
      "text/plain": [
       "            Date        Open        High         Low       Close   Adj Close  \\\n",
       "0     1997-05-15    0.121875    0.125000    0.096354    0.097917    0.097917   \n",
       "1     1997-05-16    0.098438    0.098958    0.085417    0.086458    0.086458   \n",
       "2     1997-05-19    0.088021    0.088542    0.081250    0.085417    0.085417   \n",
       "3     1997-05-20    0.086458    0.087500    0.081771    0.081771    0.081771   \n",
       "4     1997-05-21    0.081771    0.082292    0.068750    0.071354    0.071354   \n",
       "...          ...         ...         ...         ...         ...         ...   \n",
       "6511  2023-03-30  101.550003  103.040001  101.010002  102.000000  102.000000   \n",
       "6512  2023-03-31  102.160004  103.489998  101.949997  103.290001  103.290001   \n",
       "6513  2023-04-03  102.300003  103.290001  101.430000  102.410004  102.410004   \n",
       "6514  2023-04-04  102.750000  104.199997  102.110001  103.949997  103.949997   \n",
       "6515  2023-04-05  103.910004  103.910004  100.750000  101.099998  101.099998   \n",
       "\n",
       "          Volume  \n",
       "0     1443120000  \n",
       "1      294000000  \n",
       "2      122136000  \n",
       "3      109344000  \n",
       "4      377064000  \n",
       "...          ...  \n",
       "6511    53633400  \n",
       "6512    56704300  \n",
       "6513    41135700  \n",
       "6514    48662500  \n",
       "6515    45103000  \n",
       "\n",
       "[6516 rows x 7 columns]"
      ]
     },
     "execution_count": 1,
     "metadata": {},
     "output_type": "execute_result"
    }
   ],
   "source": [
    "import pandas as pd \n",
    "import numpy as np \n",
    "import matplotlib.pyplot as plt\n",
    "\n",
    "import torch\n",
    "import torch.nn as nn\n",
    "\n",
    "data = pd.read_csv('AMZN.csv')\n",
    "\n",
    "data"
   ]
  },
  {
   "cell_type": "code",
   "execution_count": 2,
   "id": "7751e8b5",
   "metadata": {},
   "outputs": [
    {
     "data": {
      "text/html": [
       "<div>\n",
       "<style scoped>\n",
       "    .dataframe tbody tr th:only-of-type {\n",
       "        vertical-align: middle;\n",
       "    }\n",
       "\n",
       "    .dataframe tbody tr th {\n",
       "        vertical-align: top;\n",
       "    }\n",
       "\n",
       "    .dataframe thead th {\n",
       "        text-align: right;\n",
       "    }\n",
       "</style>\n",
       "<table border=\"1\" class=\"dataframe\">\n",
       "  <thead>\n",
       "    <tr style=\"text-align: right;\">\n",
       "      <th></th>\n",
       "      <th>Date</th>\n",
       "      <th>Close</th>\n",
       "    </tr>\n",
       "  </thead>\n",
       "  <tbody>\n",
       "    <tr>\n",
       "      <th>0</th>\n",
       "      <td>1997-05-15</td>\n",
       "      <td>0.097917</td>\n",
       "    </tr>\n",
       "    <tr>\n",
       "      <th>1</th>\n",
       "      <td>1997-05-16</td>\n",
       "      <td>0.086458</td>\n",
       "    </tr>\n",
       "    <tr>\n",
       "      <th>2</th>\n",
       "      <td>1997-05-19</td>\n",
       "      <td>0.085417</td>\n",
       "    </tr>\n",
       "    <tr>\n",
       "      <th>3</th>\n",
       "      <td>1997-05-20</td>\n",
       "      <td>0.081771</td>\n",
       "    </tr>\n",
       "    <tr>\n",
       "      <th>4</th>\n",
       "      <td>1997-05-21</td>\n",
       "      <td>0.071354</td>\n",
       "    </tr>\n",
       "    <tr>\n",
       "      <th>...</th>\n",
       "      <td>...</td>\n",
       "      <td>...</td>\n",
       "    </tr>\n",
       "    <tr>\n",
       "      <th>6511</th>\n",
       "      <td>2023-03-30</td>\n",
       "      <td>102.000000</td>\n",
       "    </tr>\n",
       "    <tr>\n",
       "      <th>6512</th>\n",
       "      <td>2023-03-31</td>\n",
       "      <td>103.290001</td>\n",
       "    </tr>\n",
       "    <tr>\n",
       "      <th>6513</th>\n",
       "      <td>2023-04-03</td>\n",
       "      <td>102.410004</td>\n",
       "    </tr>\n",
       "    <tr>\n",
       "      <th>6514</th>\n",
       "      <td>2023-04-04</td>\n",
       "      <td>103.949997</td>\n",
       "    </tr>\n",
       "    <tr>\n",
       "      <th>6515</th>\n",
       "      <td>2023-04-05</td>\n",
       "      <td>101.099998</td>\n",
       "    </tr>\n",
       "  </tbody>\n",
       "</table>\n",
       "<p>6516 rows × 2 columns</p>\n",
       "</div>"
      ],
      "text/plain": [
       "            Date       Close\n",
       "0     1997-05-15    0.097917\n",
       "1     1997-05-16    0.086458\n",
       "2     1997-05-19    0.085417\n",
       "3     1997-05-20    0.081771\n",
       "4     1997-05-21    0.071354\n",
       "...          ...         ...\n",
       "6511  2023-03-30  102.000000\n",
       "6512  2023-03-31  103.290001\n",
       "6513  2023-04-03  102.410004\n",
       "6514  2023-04-04  103.949997\n",
       "6515  2023-04-05  101.099998\n",
       "\n",
       "[6516 rows x 2 columns]"
      ]
     },
     "execution_count": 2,
     "metadata": {},
     "output_type": "execute_result"
    }
   ],
   "source": [
    "data = data[['Date', 'Close']]\n",
    "data"
   ]
  },
  {
   "cell_type": "code",
   "execution_count": 3,
   "id": "f2bf9522",
   "metadata": {},
   "outputs": [
    {
     "data": {
      "text/plain": [
       "'cuda:0'"
      ]
     },
     "execution_count": 3,
     "metadata": {},
     "output_type": "execute_result"
    }
   ],
   "source": [
    "device = 'cuda:0' if torch.cuda.is_available() else 'cpu'\n",
    "device"
   ]
  },
  {
   "cell_type": "code",
   "execution_count": 4,
   "id": "d6a7dd03",
   "metadata": {},
   "outputs": [
    {
     "name": "stderr",
     "output_type": "stream",
     "text": [
      "C:\\Users\\antho\\AppData\\Local\\Temp\\ipykernel_28440\\1819287010.py:1: SettingWithCopyWarning: \n",
      "A value is trying to be set on a copy of a slice from a DataFrame.\n",
      "Try using .loc[row_indexer,col_indexer] = value instead\n",
      "\n",
      "See the caveats in the documentation: https://pandas.pydata.org/pandas-docs/stable/user_guide/indexing.html#returning-a-view-versus-a-copy\n",
      "  data['Date'] = pd.to_datetime(data['Date'])\n"
     ]
    },
    {
     "data": {
      "text/plain": [
       "[<matplotlib.lines.Line2D at 0x1f244db9610>]"
      ]
     },
     "execution_count": 4,
     "metadata": {},
     "output_type": "execute_result"
    },
    {
     "data": {
      "image/png": "[encoded data removed]",
      "text/plain": [
       "<Figure size 640x480 with 1 Axes>"
      ]
     },
     "metadata": {},
     "output_type": "display_data"
    }
   ],
   "source": [
    "data['Date'] = pd.to_datetime(data['Date'])\n",
    "\n",
    "plt.plot(data['Date'], data['Close'])"
   ]
  },
  {
   "cell_type": "code",
   "execution_count": 7,
   "id": "fed439cb",
   "metadata": {},
   "outputs": [
    {
     "data": {
      "text/html": [
       "<div>\n",
       "<style scoped>\n",
       "    .dataframe tbody tr th:only-of-type {\n",
       "        vertical-align: middle;\n",
       "    }\n",
       "\n",
       "    .dataframe tbody tr th {\n",
       "        vertical-align: top;\n",
       "    }\n",
       "\n",
       "    .dataframe thead th {\n",
       "        text-align: right;\n",
       "    }\n",
       "</style>\n",
       "<table border=\"1\" class=\"dataframe\">\n",
       "  <thead>\n",
       "    <tr style=\"text-align: right;\">\n",
       "      <th></th>\n",
       "      <th>Close</th>\n",
       "      <th>Close(t-1)</th>\n",
       "      <th>Close(t-2)</th>\n",
       "      <th>Close(t-3)</th>\n",
       "      <th>Close(t-4)</th>\n",
       "      <th>Close(t-5)</th>\n",
       "      <th>Close(t-6)</th>\n",
       "      <th>Close(t-7)</th>\n",
       "    </tr>\n",
       "    <tr>\n",
       "      <th>Date</th>\n",
       "      <th></th>\n",
       "      <th></th>\n",
       "      <th></th>\n",
       "      <th></th>\n",
       "      <th></th>\n",
       "      <th></th>\n",
       "      <th></th>\n",
       "      <th></th>\n",
       "    </tr>\n",
       "  </thead>\n",
       "  <tbody>\n",
       "    <tr>\n",
       "      <th>1997-05-27</th>\n",
       "      <td>0.079167</td>\n",
       "      <td>0.075000</td>\n",
       "      <td>0.069792</td>\n",
       "      <td>0.071354</td>\n",
       "      <td>0.081771</td>\n",
       "      <td>0.085417</td>\n",
       "      <td>0.086458</td>\n",
       "      <td>0.097917</td>\n",
       "    </tr>\n",
       "    <tr>\n",
       "      <th>1997-05-28</th>\n",
       "      <td>0.076563</td>\n",
       "      <td>0.079167</td>\n",
       "      <td>0.075000</td>\n",
       "      <td>0.069792</td>\n",
       "      <td>0.071354</td>\n",
       "      <td>0.081771</td>\n",
       "      <td>0.085417</td>\n",
       "      <td>0.086458</td>\n",
       "    </tr>\n",
       "    <tr>\n",
       "      <th>1997-05-29</th>\n",
       "      <td>0.075260</td>\n",
       "      <td>0.076563</td>\n",
       "      <td>0.079167</td>\n",
       "      <td>0.075000</td>\n",
       "      <td>0.069792</td>\n",
       "      <td>0.071354</td>\n",
       "      <td>0.081771</td>\n",
       "      <td>0.085417</td>\n",
       "    </tr>\n",
       "    <tr>\n",
       "      <th>1997-05-30</th>\n",
       "      <td>0.075000</td>\n",
       "      <td>0.075260</td>\n",
       "      <td>0.076563</td>\n",
       "      <td>0.079167</td>\n",
       "      <td>0.075000</td>\n",
       "      <td>0.069792</td>\n",
       "      <td>0.071354</td>\n",
       "      <td>0.081771</td>\n",
       "    </tr>\n",
       "    <tr>\n",
       "      <th>1997-06-02</th>\n",
       "      <td>0.075521</td>\n",
       "      <td>0.075000</td>\n",
       "      <td>0.075260</td>\n",
       "      <td>0.076563</td>\n",
       "      <td>0.079167</td>\n",
       "      <td>0.075000</td>\n",
       "      <td>0.069792</td>\n",
       "      <td>0.071354</td>\n",
       "    </tr>\n",
       "    <tr>\n",
       "      <th>...</th>\n",
       "      <td>...</td>\n",
       "      <td>...</td>\n",
       "      <td>...</td>\n",
       "      <td>...</td>\n",
       "      <td>...</td>\n",
       "      <td>...</td>\n",
       "      <td>...</td>\n",
       "      <td>...</td>\n",
       "    </tr>\n",
       "    <tr>\n",
       "      <th>2023-03-30</th>\n",
       "      <td>102.000000</td>\n",
       "      <td>100.250000</td>\n",
       "      <td>97.239998</td>\n",
       "      <td>98.040001</td>\n",
       "      <td>98.129997</td>\n",
       "      <td>98.709999</td>\n",
       "      <td>98.699997</td>\n",
       "      <td>100.610001</td>\n",
       "    </tr>\n",
       "    <tr>\n",
       "      <th>2023-03-31</th>\n",
       "      <td>103.290001</td>\n",
       "      <td>102.000000</td>\n",
       "      <td>100.250000</td>\n",
       "      <td>97.239998</td>\n",
       "      <td>98.040001</td>\n",
       "      <td>98.129997</td>\n",
       "      <td>98.709999</td>\n",
       "      <td>98.699997</td>\n",
       "    </tr>\n",
       "    <tr>\n",
       "      <th>2023-04-03</th>\n",
       "      <td>102.410004</td>\n",
       "      <td>103.290001</td>\n",
       "      <td>102.000000</td>\n",
       "      <td>100.250000</td>\n",
       "      <td>97.239998</td>\n",
       "      <td>98.040001</td>\n",
       "      <td>98.129997</td>\n",
       "      <td>98.709999</td>\n",
       "    </tr>\n",
       "    <tr>\n",
       "      <th>2023-04-04</th>\n",
       "      <td>103.949997</td>\n",
       "      <td>102.410004</td>\n",
       "      <td>103.290001</td>\n",
       "      <td>102.000000</td>\n",
       "      <td>100.250000</td>\n",
       "      <td>97.239998</td>\n",
       "      <td>98.040001</td>\n",
       "      <td>98.129997</td>\n",
       "    </tr>\n",
       "    <tr>\n",
       "      <th>2023-04-05</th>\n",
       "      <td>101.099998</td>\n",
       "      <td>103.949997</td>\n",
       "      <td>102.410004</td>\n",
       "      <td>103.290001</td>\n",
       "      <td>102.000000</td>\n",
       "      <td>100.250000</td>\n",
       "      <td>97.239998</td>\n",
       "      <td>98.040001</td>\n",
       "    </tr>\n",
       "  </tbody>\n",
       "</table>\n",
       "<p>6509 rows × 8 columns</p>\n",
       "</div>"
      ],
      "text/plain": [
       "                 Close  Close(t-1)  Close(t-2)  Close(t-3)  Close(t-4)  \\\n",
       "Date                                                                     \n",
       "1997-05-27    0.079167    0.075000    0.069792    0.071354    0.081771   \n",
       "1997-05-28    0.076563    0.079167    0.075000    0.069792    0.071354   \n",
       "1997-05-29    0.075260    0.076563    0.079167    0.075000    0.069792   \n",
       "1997-05-30    0.075000    0.075260    0.076563    0.079167    0.075000   \n",
       "1997-06-02    0.075521    0.075000    0.075260    0.076563    0.079167   \n",
       "...                ...         ...         ...         ...         ...   \n",
       "2023-03-30  102.000000  100.250000   97.239998   98.040001   98.129997   \n",
       "2023-03-31  103.290001  102.000000  100.250000   97.239998   98.040001   \n",
       "2023-04-03  102.410004  103.290001  102.000000  100.250000   97.239998   \n",
       "2023-04-04  103.949997  102.410004  103.290001  102.000000  100.250000   \n",
       "2023-04-05  101.099998  103.949997  102.410004  103.290001  102.000000   \n",
       "\n",
       "            Close(t-5)  Close(t-6)  Close(t-7)  \n",
       "Date                                            \n",
       "1997-05-27    0.085417    0.086458    0.097917  \n",
       "1997-05-28    0.081771    0.085417    0.086458  \n",
       "1997-05-29    0.071354    0.081771    0.085417  \n",
       "1997-05-30    0.069792    0.071354    0.081771  \n",
       "1997-06-02    0.075000    0.069792    0.071354  \n",
       "...                ...         ...         ...  \n",
       "2023-03-30   98.709999   98.699997  100.610001  \n",
       "2023-03-31   98.129997   98.709999   98.699997  \n",
       "2023-04-03   98.040001   98.129997   98.709999  \n",
       "2023-04-04   97.239998   98.040001   98.129997  \n",
       "2023-04-05  100.250000   97.239998   98.040001  \n",
       "\n",
       "[6509 rows x 8 columns]"
      ]
     },
     "execution_count": 7,
     "metadata": {},
     "output_type": "execute_result"
    }
   ],
   "source": [
    "from copy import deepcopy as dc\n",
    "\n",
    "def prepare_dataframe_for_lstm(df, n_steps):\n",
    "    df = dc(df)\n",
    "    \n",
    "    df.set_index('Date', inplace=True)\n",
    "    \n",
    "    for i in range(1, n_steps+1):\n",
    "        df[f'Close(t-{i})'] = df['Close'].shift(i)\n",
    "        \n",
    "    df.dropna(inplace=True)\n",
    "    \n",
    "    return df\n",
    "\n",
    "lookback = 7\n",
    "shifted_df = prepare_dataframe_for_lstm(data, lookback)\n",
    "shifted_df"
   ]
  },
  {
   "cell_type": "code",
   "execution_count": 8,
   "id": "72a4c615",
   "metadata": {},
   "outputs": [
    {
     "data": {
      "text/plain": [
       "array([[7.91670000e-02, 7.50000000e-02, 6.97920000e-02, ...,\n",
       "        8.54170000e-02, 8.64580000e-02, 9.79170000e-02],\n",
       "       [7.65630000e-02, 7.91670000e-02, 7.50000000e-02, ...,\n",
       "        8.17710000e-02, 8.54170000e-02, 8.64580000e-02],\n",
       "       [7.52600000e-02, 7.65630000e-02, 7.91670000e-02, ...,\n",
       "        7.13540000e-02, 8.17710000e-02, 8.54170000e-02],\n",
       "       ...,\n",
       "       [1.02410004e+02, 1.03290001e+02, 1.02000000e+02, ...,\n",
       "        9.80400010e+01, 9.81299970e+01, 9.87099990e+01],\n",
       "       [1.03949997e+02, 1.02410004e+02, 1.03290001e+02, ...,\n",
       "        9.72399980e+01, 9.80400010e+01, 9.81299970e+01],\n",
       "       [1.01099998e+02, 1.03949997e+02, 1.02410004e+02, ...,\n",
       "        1.00250000e+02, 9.72399980e+01, 9.80400010e+01]])"
      ]
     },
     "execution_count": 8,
     "metadata": {},
     "output_type": "execute_result"
    }
   ],
   "source": [
    "shifted_df_as_np = shifted_df.to_numpy()\n",
    "\n",
    "shifted_df_as_np"
   ]
  },
  {
   "cell_type": "code",
   "execution_count": 10,
   "id": "b37b58fc",
   "metadata": {},
   "outputs": [
    {
     "name": "stdout",
     "output_type": "stream",
     "text": [
      "Collecting scikit-learn\n",
      "  Downloading scikit_learn-1.4.1.post1-cp39-cp39-win_amd64.whl.metadata (11 kB)\n",
      "Requirement already satisfied: numpy<2.0,>=1.19.5 in .\\3.9-nn\\lib\\site-packages (from scikit-learn) (1.26.4)\n",
      "Collecting scipy>=1.6.0 (from scikit-learn)\n",
      "  Downloading scipy-1.12.0-cp39-cp39-win_amd64.whl.metadata (60 kB)\n",
      "     ---------------------------------------- 0.0/60.4 kB ? eta -:--:--\n",
      "     ---------------------------------------- 60.4/60.4 kB 3.3 MB/s eta 0:00:00\n",
      "Collecting joblib>=1.2.0 (from scikit-learn)\n",
      "  Downloading joblib-1.3.2-py3-none-any.whl.metadata (5.4 kB)\n",
      "Collecting threadpoolctl>=2.0.0 (from scikit-learn)\n",
      "  Downloading threadpoolctl-3.3.0-py3-none-any.whl.metadata (13 kB)\n",
      "Downloading scikit_learn-1.4.1.post1-cp39-cp39-win_amd64.whl (10.6 MB)\n",
      "   ---------------------------------------- 0.0/10.6 MB ? eta -:--:--\n",
      "   -- ------------------------------------- 0.8/10.6 MB 16.9 MB/s eta 0:00:01\n",
      "   ----------- ---------------------------- 3.1/10.6 MB 33.7 MB/s eta 0:00:01\n",
      "   -------------------------------- ------- 8.8/10.6 MB 56.1 MB/s eta 0:00:01\n",
      "   ---------------------------------------- 10.6/10.6 MB 65.6 MB/s eta 0:00:00\n",
      "Downloading joblib-1.3.2-py3-none-any.whl (302 kB)\n",
      "   ---------------------------------------- 0.0/302.2 kB ? eta -:--:--\n",
      "   ---------------------------------------- 302.2/302.2 kB ? eta 0:00:00\n",
      "Downloading scipy-1.12.0-cp39-cp39-win_amd64.whl (46.2 MB)\n",
      "   ---------------------------------------- 0.0/46.2 MB ? eta -:--:--\n",
      "   ---- ----------------------------------- 4.7/46.2 MB 101.7 MB/s eta 0:00:01\n",
      "   -------- ------------------------------- 10.4/46.2 MB 93.9 MB/s eta 0:00:01\n",
      "   ------------ --------------------------- 14.8/46.2 MB 93.0 MB/s eta 0:00:01\n",
      "   ---------------- ----------------------- 19.3/46.2 MB 93.0 MB/s eta 0:00:01\n",
      "   -------------------- ------------------- 23.7/46.2 MB 93.0 MB/s eta 0:00:01\n",
      "   ------------------------ --------------- 28.0/46.2 MB 93.9 MB/s eta 0:00:01\n",
      "   ---------------------------- ----------- 32.5/46.2 MB 93.9 MB/s eta 0:00:01\n",
      "   ------------------------------- -------- 36.9/46.2 MB 93.9 MB/s eta 0:00:01\n",
      "   ----------------------------------- ---- 41.2/46.2 MB 93.9 MB/s eta 0:00:01\n",
      "   ---------------------------------------  45.5/46.2 MB 93.9 MB/s eta 0:00:01\n",
      "   ---------------------------------------  46.2/46.2 MB 93.0 MB/s eta 0:00:01\n",
      "   ---------------------------------------- 46.2/46.2 MB 65.6 MB/s eta 0:00:00\n",
      "Downloading threadpoolctl-3.3.0-py3-none-any.whl (17 kB)\n",
      "Installing collected packages: threadpoolctl, scipy, joblib, scikit-learn\n",
      "Successfully installed joblib-1.3.2 scikit-learn-1.4.1.post1 scipy-1.12.0 threadpoolctl-3.3.0\n",
      "Note: you may need to restart the kernel to use updated packages.\n"
     ]
    }
   ],
   "source": [
    "pip install scikit-learn"
   ]
  },
  {
   "cell_type": "code",
   "execution_count": 12,
   "id": "98fc354e",
   "metadata": {},
   "outputs": [
    {
     "data": {
      "text/plain": [
       "array([[-0.99991063, -0.99995531, -1.        , ..., -0.99983244,\n",
       "        -0.99982128, -0.99969839],\n",
       "       [-0.99993855, -0.99991063, -0.99994415, ..., -0.99987154,\n",
       "        -0.99983244, -0.99982128],\n",
       "       [-0.99995253, -0.99993855, -0.99989946, ..., -0.99998325,\n",
       "        -0.99987154, -0.99983244],\n",
       "       ...,\n",
       "       [ 0.09747299,  0.10690997,  0.09308121, ...,  0.0506149 ,\n",
       "         0.05158   ,  0.05779984],\n",
       "       [ 0.11398769,  0.09747299,  0.10691495, ...,  0.04203581,\n",
       "         0.0506149 ,  0.05158   ],\n",
       "       [ 0.08342464,  0.11398769,  0.09747802, ...,  0.07431453,\n",
       "         0.04203581,  0.0506149 ]])"
      ]
     },
     "execution_count": 12,
     "metadata": {},
     "output_type": "execute_result"
    }
   ],
   "source": [
    "from sklearn.preprocessing import MinMaxScaler\n",
    "\n",
    "scaler = MinMaxScaler(feature_range=(-1, 1))\n",
    "shifted_df_as_np = scaler.fit_transform(shifted_df_as_np)\n",
    "\n",
    "shifted_df_as_np"
   ]
  },
  {
   "cell_type": "code",
   "execution_count": 13,
   "id": "49d2de96",
   "metadata": {},
   "outputs": [
    {
     "data": {
      "text/plain": [
       "((6509, 7), (6509,))"
      ]
     },
     "execution_count": 13,
     "metadata": {},
     "output_type": "execute_result"
    }
   ],
   "source": [
    "x = shifted_df_as_np[:, 1:]\n",
    "y = shifted_df_as_np[:, 0]\n",
    "\n",
    "x.shape, y.shape"
   ]
  },
  {
   "cell_type": "code",
   "execution_count": 14,
   "id": "ceed1a28",
   "metadata": {},
   "outputs": [
    {
     "data": {
      "text/plain": [
       "array([[-0.99969839, -0.99982128, -0.99983244, ..., -0.99998325,\n",
       "        -1.        , -0.99995531],\n",
       "       [-0.99982128, -0.99983244, -0.99987154, ..., -1.        ,\n",
       "        -0.99994415, -0.99991063],\n",
       "       [-0.99983244, -0.99987154, -0.99998325, ..., -0.99994415,\n",
       "        -0.99989946, -0.99993855],\n",
       "       ...,\n",
       "       [ 0.05779984,  0.05158   ,  0.0506149 , ...,  0.07431453,\n",
       "         0.09308121,  0.10690997],\n",
       "       [ 0.05158   ,  0.0506149 ,  0.04203581, ...,  0.09308121,\n",
       "         0.10691495,  0.09747299],\n",
       "       [ 0.0506149 ,  0.04203581,  0.07431453, ...,  0.10691495,\n",
       "         0.09747802,  0.11398769]])"
      ]
     },
     "execution_count": 14,
     "metadata": {},
     "output_type": "execute_result"
    }
   ],
   "source": [
    "x = dc(np.flip(x, axis=1))\n",
    "x"
   ]
  },
  {
   "cell_type": "code",
   "execution_count": 16,
   "id": "80739d83",
   "metadata": {},
   "outputs": [
    {
     "data": {
      "text/plain": [
       "6183"
      ]
     },
     "execution_count": 16,
     "metadata": {},
     "output_type": "execute_result"
    }
   ],
   "source": [
    "split_index = int(len(x) * 0.95)\n",
    "\n",
    "split_index"
   ]
  },
  {
   "cell_type": "code",
   "execution_count": 17,
   "id": "979f5696",
   "metadata": {},
   "outputs": [
    {
     "data": {
      "text/plain": [
       "((6183, 7), (326, 7), (6183,), (326,))"
      ]
     },
     "execution_count": 17,
     "metadata": {},
     "output_type": "execute_result"
    }
   ],
   "source": [
    "x_train = x[:split_index]\n",
    "x_test = x[split_index:]\n",
    "\n",
    "y_train = y[:split_index]\n",
    "y_test = y[split_index:]\n",
    "\n",
    "x_train.shape, x_test.shape, y_train.shape, y_test.shape"
   ]
  },
  {
   "cell_type": "code",
   "execution_count": 18,
   "id": "b406b412",
   "metadata": {},
   "outputs": [
    {
     "data": {
      "text/plain": [
       "((6183, 7, 1), (326, 7, 1), (6183, 1), (326, 1))"
      ]
     },
     "execution_count": 18,
     "metadata": {},
     "output_type": "execute_result"
    }
   ],
   "source": [
    "x_train = x_train.reshape(-1, lookback, 1)\n",
    "x_test = x_test.reshape(-1, lookback, 1)\n",
    "\n",
    "y_train = y_train.reshape(-1, 1)\n",
    "y_test = y_test.reshape(-1, 1)\n",
    "\n",
    "x_train.shape, x_test.shape, y_train.shape, y_test.shape"
   ]
  },
  {
   "cell_type": "code",
   "execution_count": 21,
   "id": "653961f5",
   "metadata": {},
   "outputs": [
    {
     "name": "stderr",
     "output_type": "stream",
     "text": [
      "C:\\Users\\antho\\AppData\\Local\\Temp\\ipykernel_28440\\1273968927.py:1: UserWarning: To copy construct from a tensor, it is recommended to use sourceTensor.clone().detach() or sourceTensor.clone().detach().requires_grad_(True), rather than torch.tensor(sourceTensor).\n",
      "  x_train = torch.tensor(x_train).float()\n",
      "C:\\Users\\antho\\AppData\\Local\\Temp\\ipykernel_28440\\1273968927.py:2: UserWarning: To copy construct from a tensor, it is recommended to use sourceTensor.clone().detach() or sourceTensor.clone().detach().requires_grad_(True), rather than torch.tensor(sourceTensor).\n",
      "  y_train = torch.tensor(y_train).float()\n",
      "C:\\Users\\antho\\AppData\\Local\\Temp\\ipykernel_28440\\1273968927.py:3: UserWarning: To copy construct from a tensor, it is recommended to use sourceTensor.clone().detach() or sourceTensor.clone().detach().requires_grad_(True), rather than torch.tensor(sourceTensor).\n",
      "  x_test = torch.tensor(x_test).float()\n",
      "C:\\Users\\antho\\AppData\\Local\\Temp\\ipykernel_28440\\1273968927.py:4: UserWarning: To copy construct from a tensor, it is recommended to use sourceTensor.clone().detach() or sourceTensor.clone().detach().requires_grad_(True), rather than torch.tensor(sourceTensor).\n",
      "  y_test = torch.tensor(y_test).float()\n"
     ]
    },
    {
     "data": {
      "text/plain": [
       "(torch.Size([6183, 7, 1]),\n",
       " torch.Size([326, 7, 1]),\n",
       " torch.Size([6183, 1]),\n",
       " torch.Size([326, 1]))"
      ]
     },
     "execution_count": 21,
     "metadata": {},
     "output_type": "execute_result"
    }
   ],
   "source": [
    "x_train = torch.tensor(x_train).float()\n",
    "y_train = torch.tensor(y_train).float()\n",
    "x_test = torch.tensor(x_test).float()\n",
    "y_test = torch.tensor(y_test).float()\n",
    "\n",
    "x_train.shape, x_test.shape, y_train.shape, y_test.shape"
   ]
  },
  {
   "cell_type": "code",
   "execution_count": 22,
   "id": "466e72f7",
   "metadata": {},
   "outputs": [],
   "source": [
    "from torch.utils.data import Dataset\n",
    "\n",
    "class TimeSeriesDataset(Dataset):\n",
    "    def __init__(self, x, y):\n",
    "        self.x = x\n",
    "        self.y = y\n",
    "        \n",
    "    def __len__(self):\n",
    "        return len(self.x)\n",
    "    \n",
    "    def __getitem__(self, i):\n",
    "        return self.x[i], self.y[i]\n",
    "    \n",
    "train_dataset = TimeSeriesDataset(x_train, y_train)\n",
    "test_dataset = TimeSeriesDataset(x_test, y_test)"
   ]
  },
  {
   "cell_type": "code",
   "execution_count": 24,
   "id": "0109a5d8",
   "metadata": {},
   "outputs": [],
   "source": [
    "from torch.utils.data import DataLoader\n",
    "\n",
    "batch_size = 16\n",
    "train_loader = DataLoader(train_dataset, batch_size=batch_size, shuffle=True)\n",
    "test_loader = DataLoader(test_dataset, batch_size=batch_size, shuffle=False)"
   ]
  },
  {
   "cell_type": "code",
   "execution_count": 25,
   "id": "7524e997",
   "metadata": {},
   "outputs": [
    {
     "name": "stdout",
     "output_type": "stream",
     "text": [
      "torch.Size([16, 7, 1]) torch.Size([16, 1])\n"
     ]
    }
   ],
   "source": [
    "for _, batch in enumerate(train_loader):\n",
    "    x_batch, y_batch = batch[0].to(device), batch[1].to(device)\n",
    "    print(x_batch.shape, y_batch.shape)\n",
    "    break"
   ]
  },
  {
   "cell_type": "code",
   "execution_count": 26,
   "id": "ba7c7341",
   "metadata": {},
   "outputs": [
    {
     "data": {
      "text/plain": [
       "LSTM(\n",
       "  (lstm): LSTM(1, 4, batch_first=True)\n",
       "  (fc): Linear(in_features=4, out_features=1, bias=True)\n",
       ")"
      ]
     },
     "execution_count": 26,
     "metadata": {},
     "output_type": "execute_result"
    }
   ],
   "source": [
    "class LSTM(nn.Module):\n",
    "    def __init__(self, input_size, hidden_size, num_stacked_layers):\n",
    "        super().__init__()\n",
    "        self.hidden_size = hidden_size\n",
    "        self.num_stacked_layers = num_stacked_layers\n",
    "\n",
    "        self.lstm = nn.LSTM(input_size, hidden_size, num_stacked_layers, batch_first=True)\n",
    "        \n",
    "        self.fc = nn.Linear(hidden_size, 1)\n",
    "\n",
    "    def forward(self, x):\n",
    "        batch_size = x.size(0)\n",
    "        h0 = torch.zeros(self.num_stacked_layers, batch_size, self.hidden_size).to(device)\n",
    "        c0 = torch.zeros(self.num_stacked_layers, batch_size, self.hidden_size).to(device)\n",
    "        \n",
    "        out, _ = self.lstm(x, (h0, c0))\n",
    "        out = self.fc(out[:, -1, :])\n",
    "        return out\n",
    "\n",
    "model = LSTM(1, 4, 1)\n",
    "model.to(device)\n",
    "model"
   ]
  },
  {
   "cell_type": "code",
   "execution_count": 27,
   "id": "a9c58e13",
   "metadata": {},
   "outputs": [],
   "source": [
    "def train_one_epoch():\n",
    "    model.train(True)\n",
    "    print(f'Epoch: {epoch + 1}')\n",
    "    running_loss = 0.0\n",
    "    \n",
    "    for batch_index, batch in enumerate(train_loader):\n",
    "        x_batch, y_batch = batch[0].to(device), batch[1].to(device)\n",
    "        \n",
    "        output = model(x_batch)\n",
    "        loss = loss_function(output, y_batch)\n",
    "        running_loss += loss.item()\n",
    "        \n",
    "        optimizer.zero_grad()\n",
    "        loss.backward()\n",
    "        optimizer.step()\n",
    "\n",
    "        if batch_index % 100 == 99:  # print every 100 batches\n",
    "            avg_loss_across_batches = running_loss / 100\n",
    "            print('Batch {0}, Loss: {1:.3f}'.format(batch_index+1,\n",
    "                                                    avg_loss_across_batches))\n",
    "            running_loss = 0.0\n",
    "    print()"
   ]
  },
  {
   "cell_type": "code",
   "execution_count": 28,
   "id": "84dea6b6",
   "metadata": {},
   "outputs": [],
   "source": [
    "def validate_one_epoch():\n",
    "    model.train(False)\n",
    "    running_loss = 0.0\n",
    "    \n",
    "    for batch_index, batch in enumerate(test_loader):\n",
    "        x_batch, y_batch = batch[0].to(device), batch[1].to(device)\n",
    "        \n",
    "        with torch.no_grad():\n",
    "            output = model(x_batch)\n",
    "            loss = loss_function(output, y_batch)\n",
    "            running_loss += loss.item()\n",
    "\n",
    "    avg_loss_across_batches = running_loss / len(test_loader)\n",
    "    \n",
    "    print('Val Loss: {0:.3f}'.format(avg_loss_across_batches))\n",
    "    print('***************************************************')\n",
    "    print()"
   ]
  },
  {
   "cell_type": "code",
   "execution_count": 29,
   "id": "546aedab",
   "metadata": {},
   "outputs": [
    {
     "name": "stdout",
     "output_type": "stream",
     "text": [
      "Epoch: 1\n",
      "Batch 100, Loss: 1.101\n",
      "Batch 200, Loss: 0.497\n",
      "Batch 300, Loss: 0.274\n",
      "\n",
      "Val Loss: 0.719\n",
      "***************************************************\n",
      "\n",
      "Epoch: 2\n",
      "Batch 100, Loss: 0.099\n",
      "Batch 200, Loss: 0.030\n",
      "Batch 300, Loss: 0.016\n",
      "\n",
      "Val Loss: 0.021\n",
      "***************************************************\n",
      "\n",
      "Epoch: 3\n",
      "Batch 100, Loss: 0.006\n",
      "Batch 200, Loss: 0.004\n",
      "Batch 300, Loss: 0.002\n",
      "\n",
      "Val Loss: 0.008\n",
      "***************************************************\n",
      "\n",
      "Epoch: 4\n",
      "Batch 100, Loss: 0.001\n",
      "Batch 200, Loss: 0.001\n",
      "Batch 300, Loss: 0.001\n",
      "\n",
      "Val Loss: 0.008\n",
      "***************************************************\n",
      "\n",
      "Epoch: 5\n",
      "Batch 100, Loss: 0.000\n",
      "Batch 200, Loss: 0.001\n",
      "Batch 300, Loss: 0.000\n",
      "\n",
      "Val Loss: 0.007\n",
      "***************************************************\n",
      "\n",
      "Epoch: 6\n",
      "Batch 100, Loss: 0.000\n",
      "Batch 200, Loss: 0.000\n",
      "Batch 300, Loss: 0.000\n",
      "\n",
      "Val Loss: 0.007\n",
      "***************************************************\n",
      "\n",
      "Epoch: 7\n",
      "Batch 100, Loss: 0.000\n",
      "Batch 200, Loss: 0.000\n",
      "Batch 300, Loss: 0.000\n",
      "\n",
      "Val Loss: 0.007\n",
      "***************************************************\n",
      "\n",
      "Epoch: 8\n",
      "Batch 100, Loss: 0.000\n",
      "Batch 200, Loss: 0.000\n",
      "Batch 300, Loss: 0.000\n",
      "\n",
      "Val Loss: 0.007\n",
      "***************************************************\n",
      "\n",
      "Epoch: 9\n",
      "Batch 100, Loss: 0.000\n",
      "Batch 200, Loss: 0.000\n",
      "Batch 300, Loss: 0.000\n",
      "\n",
      "Val Loss: 0.007\n",
      "***************************************************\n",
      "\n",
      "Epoch: 10\n",
      "Batch 100, Loss: 0.000\n",
      "Batch 200, Loss: 0.000\n",
      "Batch 300, Loss: 0.000\n",
      "\n",
      "Val Loss: 0.006\n",
      "***************************************************\n",
      "\n"
     ]
    }
   ],
   "source": [
    "learning_rate = 0.001\n",
    "num_epochs = 10\n",
    "loss_function = nn.MSELoss()\n",
    "optimizer = torch.optim.Adam(model.parameters(), lr=learning_rate)\n",
    "\n",
    "for epoch in range(num_epochs):\n",
    "    train_one_epoch()\n",
    "    validate_one_epoch()"
   ]
  },
  {
   "cell_type": "code",
   "execution_count": 31,
   "id": "8bcaff44",
   "metadata": {},
   "outputs": [
    {
     "data": {
      "image/png": "[encoded data removed]",
      "text/plain": [
       "<Figure size 640x480 with 1 Axes>"
      ]
     },
     "metadata": {},
     "output_type": "display_data"
    }
   ],
   "source": [
    "with torch.no_grad():\n",
    "    predicted = model(x_train.to(device)).to('cpu').numpy()\n",
    "\n",
    "plt.plot(y_train, label='Actual Close')\n",
    "plt.plot(predicted, label='Predicted Close')\n",
    "plt.xlabel('Day')\n",
    "plt.ylabel('Close')\n",
    "plt.legend()\n",
    "plt.show()"
   ]
  },
  {
   "cell_type": "code",
   "execution_count": 32,
   "id": "6299354f",
   "metadata": {},
   "outputs": [
    {
     "data": {
      "text/plain": [
       "array([168.71958882, 168.24167916, 167.73026514, 167.55990867,\n",
       "       167.67562879, 167.81866153, 167.56096471, 167.69144721,\n",
       "       167.66375664, 167.77350734, 167.49337794, 167.3962942 ,\n",
       "       167.15886786, 166.74642178, 166.13638442, 165.58015525,\n",
       "       164.96853383, 164.74559751, 164.29451136, 163.79474716,\n",
       "       163.57602946, 163.24828362, 162.69456672, 161.77152366,\n",
       "       159.606996  , 157.22781363, 154.73952529, 151.7429077 ,\n",
       "       149.00479285, 147.01252254, 146.3805695 , 147.45329837,\n",
       "       148.46283139, 149.08651394, 150.99042121, 153.20102015,\n",
       "       155.12925533, 156.55814873, 157.74110074, 158.45622553,\n",
       "       160.18591899, 160.00514103, 159.9091189 , 159.24564575,\n",
       "       158.38891665, 157.52701295, 156.69637925, 155.95573155,\n",
       "       155.42443057, 154.81858404, 154.49366172, 154.50465013,\n",
       "       154.47008416, 154.63060831, 153.1381411 , 150.81323936,\n",
       "       148.56700729, 147.35333553, 146.32410453, 145.7207925 ,\n",
       "       145.97003542, 147.99009079, 150.64993059, 153.32325439,\n",
       "       155.24857156, 157.60714997, 160.18054984, 161.94685466,\n",
       "       163.10255519, 164.12862362, 164.85879425, 165.33270205,\n",
       "       165.23560164, 165.25545526, 165.58310106, 165.5646203 ,\n",
       "       164.72763366, 163.70519469, 162.66375249, 161.50995839,\n",
       "       160.11313536, 158.60408272, 157.30500484, 156.558032  ,\n",
       "       156.42975052, 156.5290853 , 156.42616553, 155.82442646,\n",
       "       154.64003489, 153.21851156, 151.20327509, 149.02215643,\n",
       "       145.66191531, 142.0950454 , 138.69153985, 135.02824206,\n",
       "       131.39107301, 127.45767268, 121.94447591, 118.94126082,\n",
       "       115.49395865, 112.36736712, 110.23263934, 109.6320897 ,\n",
       "       109.92736499, 110.16929341, 109.9916558 , 110.04264602,\n",
       "       109.81834796, 108.46071804, 107.67647243, 107.09104366,\n",
       "       108.27208924, 110.33016772, 112.82273303, 115.83328484,\n",
       "       118.99703103, 121.86840744, 123.87503438, 124.89920193,\n",
       "       124.4152895 , 122.58120337, 118.94763599, 115.09613599,\n",
       "       111.60609602, 108.57736915, 106.43901468, 105.60948149,\n",
       "       105.78073004, 107.0873086 , 109.1833324 , 110.41027695,\n",
       "       111.24062163, 111.4930299 , 110.93072292, 110.55282058,\n",
       "       110.47217777, 110.40858728, 111.1764142 , 112.65991615,\n",
       "       113.38934477, 113.82371487, 113.64319537, 112.93902286,\n",
       "       112.57927335, 112.29489754, 112.80649498, 114.57121573,\n",
       "       117.10342852, 119.34733174, 121.28316487, 121.84343479,\n",
       "       122.50352304, 122.79407949, 124.06371598, 125.93779281,\n",
       "       128.34949576, 131.51439665, 135.94081362, 139.24208305,\n",
       "       142.04187639, 142.73528004, 143.63591274, 144.57202851,\n",
       "       144.98274601, 145.12090984, 145.70145579, 146.28044547,\n",
       "       146.95757494, 146.55650633, 145.70791989, 144.15319614,\n",
       "       142.53763874, 141.03031467, 139.49772892, 137.69298969,\n",
       "       136.27991471, 135.21825762, 134.03114257, 132.85872321,\n",
       "       131.1388843 , 130.73483654, 130.71027519, 131.30966874,\n",
       "       132.74902809, 133.26364915, 133.56324865, 133.65757556,\n",
       "       132.6684353 , 131.50145734, 129.64715632, 126.92442079,\n",
       "       125.27360266, 122.87124847, 120.76230204, 119.07424447,\n",
       "       117.79907209, 116.84246352, 116.152096  , 115.85514216,\n",
       "       116.72082956, 117.68120653, 118.80770468, 118.79200298,\n",
       "       118.67826711, 118.30935781, 117.42528831, 115.8928707 ,\n",
       "       113.87420486, 112.62738446, 112.78503506, 113.16832323,\n",
       "       113.82430403, 114.88553315, 116.13947906, 118.22090028,\n",
       "       118.84352679, 118.26170802, 116.47147687, 113.86656522,\n",
       "       109.87351789, 105.19215538, 100.25536376,  96.47950842,\n",
       "        93.70623289,  92.00590299,  90.13226526,  90.16938518,\n",
       "        91.61881862,  93.2308355 ,  94.62119721,  95.6585931 ,\n",
       "        96.14614887,  96.69013072,  95.87745253,  94.74120821,\n",
       "        94.10341636,  93.48752074,  93.17650207,  92.93091362,\n",
       "        93.23210831,  93.70201705,  93.89630402,  93.50567635,\n",
       "        92.64559016,  91.60840826,  91.03705266,  90.13088684,\n",
       "        89.62960528,  89.64626853,  89.91282778,  89.9516735 ,\n",
       "        89.72125317,  88.84922535,  88.03102516,  87.38413467,\n",
       "        86.3622793 ,  85.6315473 ,  84.99893563,  84.2164575 ,\n",
       "        83.99262355,  83.85938422,  83.88833926,  84.17734499,\n",
       "        84.03375366,  84.35548006,  85.01589068,  85.84271429,\n",
       "        87.45949726,  89.06685643,  91.0036011 ,  92.78318149,\n",
       "        93.9643688 ,  94.59233388,  95.27024148,  95.57475715,\n",
       "        95.77236788,  95.77190655,  96.25033589,  97.21702967,\n",
       "        98.24836998,  99.16692485, 100.3380325 , 102.63296485,\n",
       "       103.89624841, 104.38177825, 104.23276775, 103.83841892,\n",
       "       102.79572337, 101.47725876,  99.69175618,  99.18503877,\n",
       "        99.11820234,  98.79678164,  98.44599182,  97.83633242,\n",
       "        97.30599855,  96.65816595,  95.8068199 ,  94.84961662,\n",
       "        94.32403494,  93.68363912,  93.25535794,  93.10856513,\n",
       "        92.96009377,  93.00700433,  93.07157027,  92.86305728,\n",
       "        92.55925305,  92.41455565,  92.41900493,  92.86211518,\n",
       "        93.92520626,  94.9364873 ,  95.82976939,  97.06573756,\n",
       "        97.87406374,  98.29776224,  98.4709478 ,  98.1938698 ,\n",
       "        97.91434345,  98.13800233,  98.44222619,  99.22747504,\n",
       "        99.95361325, 100.85217834])"
      ]
     },
     "execution_count": 32,
     "metadata": {},
     "output_type": "execute_result"
    }
   ],
   "source": [
    "test_predictions = model(x_test.to(device)).detach().cpu().numpy().flatten()\n",
    "\n",
    "dummies = np.zeros((x_test.shape[0], lookback+1))\n",
    "dummies[:, 0] = test_predictions\n",
    "dummies = scaler.inverse_transform(dummies)\n",
    "\n",
    "test_predictions = dc(dummies[:, 0])\n",
    "test_predictions"
   ]
  },
  {
   "cell_type": "code",
   "execution_count": 33,
   "id": "5a369b6b",
   "metadata": {},
   "outputs": [
    {
     "data": {
      "text/plain": [
       "array([170.01749949, 167.07899763, 170.41700626, 171.03700377,\n",
       "       171.0684961 , 169.66949429, 170.66099675, 169.20100565,\n",
       "       168.64449858, 166.71699707, 170.40449492, 167.52200227,\n",
       "       164.35699578, 163.25399737, 162.55400179, 161.48599177,\n",
       "       165.36199892, 165.20699954, 161.21400501, 162.13799851,\n",
       "       158.91749416, 156.29899568, 151.66749509, 142.64300408,\n",
       "       144.54400445, 139.98599336, 138.87249844, 139.63749627,\n",
       "       143.97799855, 149.57350001, 151.19349835, 150.61250219,\n",
       "       138.84550541, 157.63949825, 157.93550165, 161.41349717,\n",
       "       161.18949925, 159.003495  , 153.29350176, 155.1670061 ,\n",
       "       156.51049894, 158.10049453, 154.6524962 , 152.60149876,\n",
       "       150.19749381, 144.82699629, 151.35800212, 153.78849709,\n",
       "       153.56300403, 151.14199678, 152.05250627, 147.89849848,\n",
       "       145.64100565, 137.45300383, 136.01449488, 139.27900567,\n",
       "       146.81750468, 145.52450739, 141.8529947 , 147.36650272,\n",
       "       153.10400311, 157.23899657, 161.25050521, 161.49149987,\n",
       "       164.8890082 , 163.4080074 , 163.64950785, 164.77349929,\n",
       "       168.99049174, 169.31500275, 166.30099379, 162.99749555,\n",
       "       163.55999984, 168.34649425, 164.05499516, 158.75599734,\n",
       "       157.78449856, 154.4604964 , 151.1219931 , 150.78750525,\n",
       "       155.54100108, 151.70649644, 152.78500575, 158.11549591,\n",
       "       153.99799942, 148.29600432, 144.35000372, 146.07400567,\n",
       "       139.39100462, 138.16700588, 144.59649537, 124.2815027 ,\n",
       "       124.50000086, 124.25350088, 125.92849685, 116.40699847,\n",
       "       114.77249899, 108.78900163, 108.85900063, 105.37200234,\n",
       "       106.93049589, 113.05500005, 110.81050072, 115.36850069,\n",
       "       107.11250358, 107.31900035, 107.59100239, 107.55699918,\n",
       "       104.09999809, 106.77500184, 111.07749906, 115.14649953,\n",
       "       120.20950223, 121.68399725, 125.51100121, 122.34999935,\n",
       "       124.79000149, 122.99999961, 121.18000054, 116.15000198,\n",
       "       109.65000214, 103.66999806, 102.30999829, 107.6699986 ,\n",
       "       103.66000386, 106.22000101, 108.67999989, 108.94999683,\n",
       "       112.44000207, 116.45999935, 113.22000127, 107.40000166,\n",
       "       108.91999825, 106.20999917, 109.55999806, 113.50000006,\n",
       "       114.33000152, 116.3300018 , 115.54000075, 111.74999999,\n",
       "       109.22000073, 110.40000137, 110.62999651, 113.55000232,\n",
       "       113.76000211, 118.20999802, 122.76999614, 124.62999702,\n",
       "       122.41999835, 121.13999873, 114.80999825, 120.97000076,\n",
       "       122.28000035, 134.94999758, 135.38999806, 134.16000488,\n",
       "       139.5200031 , 142.57000925, 140.80000272, 139.41000507,\n",
       "       137.83000298, 142.69000357, 140.64000103, 143.55000084,\n",
       "       143.17999102, 144.7799968 , 142.10000324, 142.30000119,\n",
       "       138.22999608, 133.22000121, 133.61999431, 133.80000247,\n",
       "       137.27999891, 130.7499991 , 129.78999174, 128.72999653,\n",
       "       126.76999668, 127.82000117, 127.51000241, 126.11000014,\n",
       "       129.47999576, 129.82000839, 133.27000486, 136.44999605,\n",
       "       126.82000034, 128.55000227, 126.27999811, 123.52999999,\n",
       "       124.66000532, 122.19000322, 118.54000046, 117.30999894,\n",
       "       113.77999884, 115.15000254, 114.41000376, 118.01000286,\n",
       "       114.80000336, 112.99999964, 115.8799967 , 121.08999508,\n",
       "       120.94999707, 120.30000237, 114.55999805, 113.66999803,\n",
       "       112.2099986 , 112.90000206, 112.5299992 , 106.90000263,\n",
       "       113.79000069, 116.36000038, 115.0700003 , 115.25000012,\n",
       "       119.31999967, 119.82000008, 120.59999928, 115.66000341,\n",
       "       110.95999895, 103.41000365, 102.4400021 ,  96.79000116,\n",
       "        92.12000301,  89.30000302,  90.98000304,  90.52999899,\n",
       "        89.98000291,  86.13999884,  96.62999704, 100.79000101,\n",
       "        98.48999791,  98.94000197,  97.1200029 ,  94.84999805,\n",
       "        94.13999897,  92.45999904,  93.199997  ,  94.12999696,\n",
       "        93.410004  ,  93.94999701,  92.41999801,  96.54000095,\n",
       "        95.50000004,  94.12999696,  91.01000197,  88.24999993,\n",
       "        88.45999902,  90.34999813,  89.08999594,  90.55000302,\n",
       "        92.48999797,  91.58000208,  88.44999683,  87.86000102,\n",
       "        84.91999777,  85.19000167,  86.76999681,  83.79000078,\n",
       "        85.25000022,  83.04000085,  81.81999979,  84.17999969,\n",
       "        83.99999987,  85.82000033,  85.13999871,  83.12000309,\n",
       "        86.08000168,  87.3600013 ,  89.87000314,  95.08999606,\n",
       "        95.26999692,  98.12000304,  96.05000307,  95.45999893,\n",
       "        93.68      ,  97.25000011,  97.51999705,  96.32000002,\n",
       "        97.18000006,  99.22000076, 102.2399979 , 100.55000334,\n",
       "       103.12999722, 105.15000257, 112.9100039 , 103.38999927,\n",
       "       102.18000005, 102.11000105, 100.05000292,  98.23999805,\n",
       "        97.61000113,  99.54000066,  99.69999679, 101.16000387,\n",
       "        98.15000197,  97.19999715,  94.58000197,  95.79000102,\n",
       "        95.81999995,  93.5       ,  93.760002  ,  94.23000296,\n",
       "        92.16999798,  92.12999703,  94.90000205,  93.74999998,\n",
       "        93.55000299,  93.919998  ,  92.25000004,  90.73000301,\n",
       "        92.43000003,  94.87999697,  96.19999701, 100.04000108,\n",
       "        98.94999687,  97.70999906, 100.61000119,  98.69999701,\n",
       "        98.70999885,  98.12999689,  98.04000115,  97.23999792,\n",
       "       100.25000017, 102.00000023, 103.290001  , 102.41000421,\n",
       "       103.94999685, 101.09999768])"
      ]
     },
     "execution_count": 33,
     "metadata": {},
     "output_type": "execute_result"
    }
   ],
   "source": [
    "dummies = np.zeros((x_test.shape[0], lookback+1))\n",
    "dummies[:, 0] = y_test.flatten()\n",
    "dummies = scaler.inverse_transform(dummies)\n",
    "\n",
    "new_y_test = dc(dummies[:, 0])\n",
    "new_y_test"
   ]
  },
  {
   "cell_type": "code",
   "execution_count": 34,
   "id": "ea405626",
   "metadata": {},
   "outputs": [
    {
     "data": {
      "image/png": "[encoded data removed]",
      "text/plain": [
       "<Figure size 640x480 with 1 Axes>"
      ]
     },
     "metadata": {},
     "output_type": "display_data"
    }
   ],
   "source": [
    "plt.plot(new_y_test, label='Actual Close')\n",
    "plt.plot(test_predictions, label='Predicted Close')\n",
    "plt.xlabel('Day')\n",
    "plt.ylabel('Close')\n",
    "plt.legend()\n",
    "plt.show()"
   ]
  }
 ],
 "metadata": {
  "kernelspec": {
   "display_name": "3.9-NN",
   "language": "python",
   "name": "python3"
  },
  "language_info": {
   "codemirror_mode": {
    "name": "ipython",
    "version": 3
   },
   "file_extension": ".py",
   "mimetype": "text/x-python",
   "name": "python",
   "nbconvert_exporter": "python",
   "pygments_lexer": "ipython3",
   "version": "3.9.0"
  }
 },
 "nbformat": 4,
 "nbformat_minor": 5
}
